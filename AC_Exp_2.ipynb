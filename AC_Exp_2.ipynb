{
  "nbformat": 4,
  "nbformat_minor": 0,
  "metadata": {
    "colab": {
      "provenance": []
    },
    "kernelspec": {
      "name": "python3",
      "display_name": "Python 3"
    },
    "language_info": {
      "name": "python"
    }
  },
  "cells": [
    {
      "cell_type": "code",
      "source": [
        "def encrypt(plaintext, num_columns):\n",
        "    ciphertext = [''] * num_columns\n",
        "    for i, char in enumerate(plaintext):\n",
        "        column = i % num_columns\n",
        "        ciphertext[column] += char\n",
        "    return ''.join(ciphertext)\n",
        "\n",
        "def decrypt(ciphertext, num_columns):\n",
        "    num_rows = -(-len(ciphertext) // num_columns)  # Ceiling division\n",
        "    plaintext = [''] * num_rows\n",
        "    for i, char in enumerate(ciphertext):\n",
        "        row = i % num_rows\n",
        "        plaintext[row] += char\n",
        "    return ''.join(plaintext)\n",
        "\n",
        "def main():\n",
        "    while True:\n",
        "        choice = input(\"Enter your choice 1) Encryption\\n2) Decryption\\n3) Exit: \")\n",
        "        if choice == '1':\n",
        "            plaintext = input(\"Enter plaintext: \")\n",
        "            num_columns = int(input(\"Enter number of columns: \"))\n",
        "            ciphertext = encrypt(plaintext, num_columns)\n",
        "            print(\"Encrypted text:\", ciphertext)\n",
        "        elif choice == '2':\n",
        "            ciphertext = input(\"Enter ciphertext: \")\n",
        "            num_columns = int(input(\"Enter number of columns: \"))\n",
        "            plaintext = decrypt(ciphertext, num_columns)\n",
        "            print(\"Decrypted text:\", plaintext)\n",
        "            print(\"\\n\")\n",
        "        elif choice == '3':\n",
        "            print(\"Exiting program.\")\n",
        "            break\n",
        "        else:\n",
        "            print(\"Invalid choice. Please enter 1, 2, or 3.\")\n",
        "\n",
        "if __name__ == \"__main__\":\n",
        "    main()\n"
      ],
      "metadata": {
        "colab": {
          "base_uri": "https://localhost:8080/"
        },
        "id": "uC4BTAeut7We",
        "outputId": "6fffc00d-3680-4709-f776-4c2f904c9111"
      },
      "execution_count": null,
      "outputs": [
        {
          "output_type": "stream",
          "name": "stdout",
          "text": [
            "Enter your choice 1) Encryption\n",
            "2) Decryption\n",
            "3) Exit: 3\n",
            "Exiting program.\n"
          ]
        }
      ]
    }
  ]
}