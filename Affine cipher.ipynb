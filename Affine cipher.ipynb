{
 "cells": [
  {
   "cell_type": "code",
   "execution_count": 1,
   "metadata": {},
   "outputs": [
    {
     "name": "stdout",
     "output_type": "stream",
     "text": [
      "*********************MENU************************\n",
      "Affine Cipher\n",
      "1. Encrypt\n",
      "2. Decrypt\n",
      "3. Exit\n"
     ]
    }
   ],
   "source": [
    "#AFFINE\n",
    "\n",
    "def encrypt(text, a, b):\n",
    "    encrypted_text = \"\"\n",
    "    for char in text:\n",
    "        if char.isalpha():\n",
    "            if char.isupper():\n",
    "                encrypted_char = chr((a * (ord(char) - 65) + b) % 26 + 65)\n",
    "            else:\n",
    "                encrypted_char = chr((a * (ord(char) - 97) + b) % 26 + 97)\n",
    "            encrypted_text += encrypted_char\n",
    "        else:\n",
    "            encrypted_text += char\n",
    "    return encrypted_text\n",
    "\n",
    "def decrypt(text, a, b):\n",
    "    decrypted_text = \"\"\n",
    "    for char in text:\n",
    "        if char.isalpha():\n",
    "            if char.isupper():\n",
    "                decrypted_char = chr(((ord(char) - 65 - b) * mod_inverse(a, 26)) % 26 + 65)\n",
    "            else:\n",
    "                decrypted_char = chr(((ord(char) - 97 - b) * mod_inverse(a, 26)) % 26 + 97)\n",
    "            decrypted_text += decrypted_char\n",
    "        else:\n",
    "            decrypted_text += char\n",
    "    return decrypted_text\n",
    "\n",
    "def mod_inverse(a, m):\n",
    "    for x in range(1, m):\n",
    "        if (a * x) % m == 1:\n",
    "            return x\n",
    "    return -1\n",
    "\n",
    "def main():\n",
    "    while True:\n",
    "        print(\"*********************MENU************************\")\n",
    "        print(\"Affine Cipher\")\n",
    "        print(\"1. Encrypt\")\n",
    "        print(\"2. Decrypt\")\n",
    "        print(\"3. Exit\")\n",
    "        choice = int(input(\"Enter your choice: \"))\n",
    "        \n",
    "        if choice == 1:\n",
    "            text = input(\"Enter the text to encrypt: \")\n",
    "            a = int(input(\"Enter the value of key1: \"))\n",
    "            b = int(input(\"Enter the value of key2: \"))\n",
    "            encrypted_text = encrypt(text, a, b)\n",
    "            print(\"Encrypted Text:\", encrypted_text)\n",
    "        elif choice == 2:\n",
    "            decrypted_text = decrypt(encrypted_text, a, b)\n",
    "            print(\"Decrypted Text:\", decrypted_text)\n",
    "        elif choice == 3:\n",
    "            break\n",
    "        else:\n",
    "            print(\"Invalid choice. Please try again.\")\n",
    "\n",
    "if __name__ == \"__main__\":\n",
    "    main()\n"
   ]
  }
 ],
 "metadata": {
  "kernelspec": {
   "display_name": "pythonlab",
   "language": "python",
   "name": "pythonlab"
  },
  "language_info": {
   "codemirror_mode": {
    "name": "ipython",
    "version": 3
   },
   "file_extension": ".py",
   "mimetype": "text/x-python",
   "name": "python",
   "nbconvert_exporter": "python",
   "pygments_lexer": "ipython3",
   "version": "3.11.5"
  }
 },
 "nbformat": 4,
 "nbformat_minor": 2
}
