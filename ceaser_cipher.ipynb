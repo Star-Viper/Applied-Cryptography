def ceaser_cipher(text, key):
    output=""
    for char in text:
        if char.isalpha():
            is_upper=char.isupper()
            char_code=ord(char)+key
            if is_upper:
                if char_code>ord('Z'):
                    char_code-=26
                elif char_code<ord('A'):
                    char_code+=26
            else:
                if char_code>ord('z'):
                    char_code-=26
                elif char_code<ord('a'):
                    char_code+=26
            output+=chr(char_code)
        else:
            output+=char
    return output

def decrypt(text,key):
    return ceaser_cipher(text,-key)

print(" \nPress 1 to start and 4 to exit: ")
a=int(input())
while a==1:
    print("Enter 1 to entering plaintext \nEnter 2 to encrpyt \nEnter 3 to decrypt \nEnter 4 to exit")
    b=int(input(""))
    if b==1:
        plaintext=input("Enter plaintext: ")
        key=int(input("ENter the key: "))
    if b==2:
        Encrypted_text=ceaser_cipher(plaintext,key)
        print("Encrypted: ", Encrypted_text)
    if b==3:
        Decrypted_text=decrypt(Encrypted_text,key)
        print("Decrypted: ", Decrypted_text)
    if b==4:
        a=0
