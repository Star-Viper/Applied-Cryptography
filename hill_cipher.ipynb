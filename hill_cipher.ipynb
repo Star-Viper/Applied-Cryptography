import numpy as np

def egcd(a, b):
    if a == 0:
        return (b, 0, 1)
    else:
        g, y, x = egcd(b % a, a)
        return (g, x - (b // a) * y, y)

def modinv(a, m):
    g, x, y = egcd(a, m)
    if g != 1:
        raise Exception('Modular inverse does not exist')
    else:
        return x % m

def matrix_mod_inv(matrix, modulus):
    det = int(np.round(np.linalg.det(matrix)))
    det_inv = modinv(det, modulus)
    matrix_modulus_inv = (det_inv * np.round(det * np.linalg.inv(matrix))).astype(int) % modulus
    return matrix_modulus_inv

def encrypt(message, key):
    key = np.array(key)
    message = [ord(char) - 65 for char in message]
    while len(message) % len(key) != 0:
        message.append(23)  # Adding padding for characters not in the alphabet
    message = np.array(message).reshape(-1, len(key))
    encrypted = np.dot(message, key) % 26
    return ''.join([chr(int(char) + 65) for char in encrypted.flatten()])

def decrypt(ciphertext, key):
    key = np.array(key)
    key_inv = matrix_mod_inv(key, 26)
    ciphertext = [ord(char) - 65 for char in ciphertext]
    ciphertext = np.array(ciphertext).reshape(-1, len(key))
    decrypted = np.dot(ciphertext, key_inv) % 26
    return ''.join([chr(int(char) + 65) for char in decrypted.flatten()])

while True:
    print("Hill Cipher Menu:")
    print("1. Encrypt Message")
    print("2. Decrypt Message")
    print("3. Exit")
    choice = int(input("Enter your choice: "))

    if choice == 1:
        key = []
        for i in range(2):
            row = list(map(int, input(f"Enter the {i+1} row of the 2x2 matrix separated by space: ").split()))
            key.append(row)

        message = input("Enter your message: ").upper()
        encrypted_message = encrypt(message, key)
        print("Encrypted Message:", encrypted_message)

    elif choice == 2:
        key = []
        for i in range(2):
            row = list(map(int, input(f"Enter the {i+1} row of the 2x2 matrix separated by space: ").split()))
            key.append(row)

        ciphertext = input("Enter the encrypted message: ").upper()
        decrypted_message = decrypt(ciphertext, key)
        print("Decrypted Message:", decrypted_message)

    elif choice == 3:
        print("Exiting...")
        break

    else:
        print("Invalid Choice. Please enter a valid option.")
